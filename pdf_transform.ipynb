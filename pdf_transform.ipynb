{
 "cells": [
  {
   "cell_type": "code",
   "execution_count": null,
   "id": "681c6e79",
   "metadata": {},
   "outputs": [],
   "source": [
    "import os\n",
    "import json\n",
    "from tqdm import tqdm\n",
    "\n",
    "from magic_pdf.data.data_reader_writer import FileBasedDataWriter, FileBasedDataReader\n",
    "from magic_pdf.data.dataset import PymuDocDataset\n",
    "from magic_pdf.model.doc_analyze_by_custom_model import doc_analyze\n",
    "from magic_pdf.config.enums import SupportedPdfParseMethod\n",
    "\n",
    "base_path = './data/附件3/'\n",
    "\n",
    "reader1 = FileBasedDataReader(\"\")\n",
    "\n",
    "for file_name in tqdm(os.listdir(base_path), desc=\"transforming pdf\"):\n",
    "    # 原始代码的逻辑（处理每个PDF文件）\n",
    "    pdf_file_name = os.path.join(base_path, file_name)\n",
    "    name_without_suff = os.path.basename(pdf_file_name).split(\".\")[0]\n",
    "\n",
    "    # 准备环境变量和路径\n",
    "    local_image_dir = f\"./data/transform/{name_without_suff}/image/\"\n",
    "    local_md_dir = f\"./data/transform/{name_without_suff}/md/\"\n",
    "    os.makedirs(local_image_dir, exist_ok=True)\n",
    "    os.makedirs(local_md_dir, exist_ok=True)\n",
    "\n",
    "    image_writer = FileBasedDataWriter(local_image_dir)\n",
    "    md_writer = FileBasedDataWriter(local_md_dir)\n",
    "\n",
    "    # 读取PDF内容并处理\n",
    "    # reader1 = FileBasedDataReader(\"\")\n",
    "    pdf_bytes = reader1.read(pdf_file_name)\n",
    "    ds = PymuDocDataset(pdf_bytes)\n",
    "\n",
    "    if ds.classify() == SupportedPdfParseMethod.OCR:\n",
    "        infer_result = ds.apply(doc_analyze, ocr=True)\n",
    "        pipe_result = infer_result.pipe_ocr_mode(image_writer)\n",
    "    else:\n",
    "        infer_result = ds.apply(doc_analyze, ocr=False)\n",
    "        pipe_result = infer_result.pipe_txt_mode(image_writer)\n",
    "\n",
    "    # 生成中间结果和文件\n",
    "    # infer_result.draw_model(os.path.join(local_md_dir, f\"{name_without_suff}_model.pdf\"))\n",
    "    model_inference_result = infer_result.get_infer_res()\n",
    "    # pipe_result.draw_layout(os.path.join(local_md_dir, f\"{name_without_suff}_layout.pdf\"))\n",
    "    # pipe_result.draw_span(os.path.join(local_md_dir, f\"{name_without_suff}_spans.pdf\"))\n",
    "    md_content = pipe_result.get_markdown(local_image_dir)\n",
    "    pipe_result.dump_md(md_writer, f\"{name_without_suff}.md\", local_image_dir)\n",
    "    # content_list_content = pipe_result.get_content_list(local_image_dir)\n",
    "    pipe_result.dump_content_list(md_writer, f\"{name_without_suff}_content_list.json\", local_image_dir)"
   ]
  }
 ],
 "metadata": {
  "kernelspec": {
   "display_name": "mineru",
   "language": "python",
   "name": "python3"
  },
  "language_info": {
   "codemirror_mode": {
    "name": "ipython",
    "version": 3
   },
   "file_extension": ".py",
   "mimetype": "text/x-python",
   "name": "python",
   "nbconvert_exporter": "python",
   "pygments_lexer": "ipython3",
   "version": "3.13.2"
  }
 },
 "nbformat": 4,
 "nbformat_minor": 5
}
